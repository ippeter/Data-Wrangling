{
 "cells": [
  {
   "cell_type": "markdown",
   "metadata": {},
   "source": [
    "Hello, dear reviewer!\n",
    "Here comes my answer to the Project 3: Data Wrangling with MongoDB.\n",
    "\n",
    "While making my response I used the Udacity course materials mostly.\n",
    "In some cases I googled for solutions and went to StackOverflow.com and official MongoDB documentation.\n",
    "No other materials were used.\n",
    "\n",
    "For my project I exported a piece of the map of Moscow, Russia.\n",
    "\n",
    "I include my code I used for the data analysis.\n",
    "Since the output is really huge, I limited the output to reasonable amounts to make it readable for you.\n",
    "In the real investigation I didn't use any limits."
   ]
  },
  {
   "cell_type": "code",
   "execution_count": 180,
   "metadata": {
    "collapsed": true
   },
   "outputs": [],
   "source": [
    "import xml.etree.cElementTree as ET\n",
    "import pprint as pp\n",
    "import re\n",
    "import codecs\n",
    "import json\n",
    "import os\n",
    "\n",
    "from pymongo import MongoClient\n",
    "from os.path import join, getsize\n",
    "\n",
    "CREATED = [ \"version\", \"changeset\", \"timestamp\", \"user\", \"uid\"]\n",
    "\n",
    "problemchars = re.compile(r'[=\\+/&<>;\\'\"\\?%#$@\\,\\. \\t\\r\\n]')\n",
    "doublecolon = re.compile(r'.*:.*:.*')"
   ]
  },
  {
   "cell_type": "code",
   "execution_count": 218,
   "metadata": {
    "collapsed": false
   },
   "outputs": [
    {
     "ename": "UnicodeEncodeError",
     "evalue": "'ascii' codec can't encode characters in position 0-6: ordinal not in range(128)",
     "output_type": "error",
     "traceback": [
      "\u001b[1;31m---------------------------------------------------------------------------\u001b[0m",
      "\u001b[1;31mUnicodeEncodeError\u001b[0m                        Traceback (most recent call last)",
      "\u001b[1;32m<ipython-input-218-d516819405ec>\u001b[0m in \u001b[0;36m<module>\u001b[1;34m()\u001b[0m\n\u001b[0;32m      5\u001b[0m \u001b[1;32mfor\u001b[0m \u001b[0m_\u001b[0m\u001b[1;33m,\u001b[0m \u001b[0melement\u001b[0m \u001b[1;32min\u001b[0m \u001b[0mET\u001b[0m\u001b[1;33m.\u001b[0m\u001b[0miterparse\u001b[0m\u001b[1;33m(\u001b[0m\u001b[1;34m'.\\part_of_moscow.osm'\u001b[0m\u001b[1;33m)\u001b[0m\u001b[1;33m:\u001b[0m\u001b[1;33m\u001b[0m\u001b[0m\n\u001b[0;32m      6\u001b[0m     \u001b[1;32mfor\u001b[0m \u001b[0mtag\u001b[0m \u001b[1;32min\u001b[0m \u001b[0melement\u001b[0m\u001b[1;33m.\u001b[0m\u001b[0miter\u001b[0m\u001b[1;33m(\u001b[0m\u001b[1;34m'tag'\u001b[0m\u001b[1;33m)\u001b[0m\u001b[1;33m:\u001b[0m\u001b[1;33m\u001b[0m\u001b[0m\n\u001b[1;32m----> 7\u001b[1;33m         \u001b[1;32mprint\u001b[0m\u001b[1;33m(\u001b[0m\u001b[1;34m'{0}: {1}'\u001b[0m\u001b[1;33m.\u001b[0m\u001b[0mformat\u001b[0m\u001b[1;33m(\u001b[0m\u001b[0mtag\u001b[0m\u001b[1;33m.\u001b[0m\u001b[0mattrib\u001b[0m\u001b[1;33m[\u001b[0m\u001b[1;34m'k'\u001b[0m\u001b[1;33m]\u001b[0m\u001b[1;33m,\u001b[0m \u001b[0mtag\u001b[0m\u001b[1;33m.\u001b[0m\u001b[0mattrib\u001b[0m\u001b[1;33m[\u001b[0m\u001b[1;34m'v'\u001b[0m\u001b[1;33m]\u001b[0m\u001b[1;33m)\u001b[0m\u001b[1;33m)\u001b[0m\u001b[1;33m\u001b[0m\u001b[0m\n\u001b[0m\u001b[0;32m      8\u001b[0m         \u001b[0mi\u001b[0m \u001b[1;33m=\u001b[0m \u001b[0mi\u001b[0m \u001b[1;33m-\u001b[0m \u001b[1;36m1\u001b[0m\u001b[1;33m\u001b[0m\u001b[0m\n\u001b[0;32m      9\u001b[0m     \u001b[1;32mif\u001b[0m \u001b[1;33m(\u001b[0m\u001b[0mi\u001b[0m \u001b[1;33m<\u001b[0m \u001b[1;36m0\u001b[0m\u001b[1;33m)\u001b[0m\u001b[1;33m:\u001b[0m\u001b[1;33m\u001b[0m\u001b[0m\n",
      "\u001b[1;31mUnicodeEncodeError\u001b[0m: 'ascii' codec can't encode characters in position 0-6: ordinal not in range(128)"
     ]
    }
   ],
   "source": [
    "# Let's have a look at some data. Just to see what's inside the file.\n",
    "# Output limited.\n",
    "#\n",
    "i = 50\n",
    "for _, element in ET.iterparse('.\\part_of_moscow.osm'):\n",
    "    for tag in element.iter('tag'):\n",
    "        print('{0}: {1}'.format(tag.attrib['k'], tag.attrib['v']))\n",
    "        i = i - 1\n",
    "    if (i < 0):\n",
    "        break"
   ]
  },
  {
   "cell_type": "markdown",
   "metadata": {},
   "source": [
    "Immediately I got an error: \n",
    "\n",
    "UnicodeEncodeError: 'ascii' codec can't encode characters in position 0-6: ordinal not in range(128)\n",
    "\n",
    "It made me think there is something wrong the the character enconding.\n",
    "I solved it by using the .encode('utf-8') method.\n",
    "This knowledge will be useful later as well."
   ]
  },
  {
   "cell_type": "code",
   "execution_count": 182,
   "metadata": {
    "collapsed": false
   },
   "outputs": [
    {
     "name": "stdout",
     "output_type": "stream",
     "text": [
      "alt_name: Кунцево\n",
      "name: Кунцево I\n",
      "railway: station\n",
      "alt_name: Кунцево\n",
      "name: Кунцево I\n",
      "railway: station\n",
      "highway: traffic_signals\n",
      "highway: traffic_signals\n",
      "highway: traffic_signals\n",
      "highway: traffic_signals\n",
      "highway: traffic_signals\n",
      "highway: traffic_signals\n",
      "highway: traffic_signals\n",
      "highway: traffic_signals\n",
      "highway: traffic_signals\n",
      "highway: traffic_signals\n",
      "highway: traffic_signals\n",
      "highway: traffic_signals\n",
      "highway: traffic_signals\n",
      "highway: traffic_signals\n",
      "highway: traffic_signals\n",
      "highway: traffic_signals\n",
      "highway: traffic_signals\n",
      "highway: traffic_signals\n",
      "highway: traffic_signals\n",
      "highway: traffic_signals\n",
      "highway: traffic_signals\n",
      "highway: traffic_signals\n",
      "highway: traffic_signals\n",
      "highway: traffic_signals\n",
      "colour: orange\n",
      "name: Шаболовская\n",
      "name:en: Shabolovskaya\n",
      "network: Московский метрополитен\n",
      "operator: ГУП «Московский метрополитен»\n",
      "railway: subway_entrance\n",
      "colour: orange\n",
      "name: Шаболовская\n",
      "name:en: Shabolovskaya\n",
      "network: Московский метрополитен\n",
      "operator: ГУП «Московский метрополитен»\n",
      "railway: subway_entrance\n",
      "highway: traffic_signals\n",
      "highway: traffic_signals\n",
      "crossing: uncontrolled\n",
      "highway: crossing\n",
      "crossing: uncontrolled\n",
      "highway: crossing\n",
      "highway: traffic_signals\n",
      "highway: traffic_signals\n",
      "highway: traffic_signals\n"
     ]
    }
   ],
   "source": [
    "# Let's look at  data considering Unicode:\n",
    "# Output limited to 50.\n",
    "#\n",
    "i = 50\n",
    "for _, element in ET.iterparse('.\\part_of_moscow.osm'):\n",
    "    for tag in element.iter('tag'):\n",
    "        print('{0}: {1}'.format(tag.attrib['k'].encode('utf-8'), tag.attrib['v'].encode('utf-8')))\n",
    "        i = i - 1\n",
    "    if (i < 0):\n",
    "        break"
   ]
  },
  {
   "cell_type": "code",
   "execution_count": 208,
   "metadata": {
    "collapsed": false
   },
   "outputs": [
    {
     "name": "stdout",
     "output_type": "stream",
     "text": [
      "{'alt_name': 2,\n",
      " 'colour': 6,\n",
      " 'crossing': 2,\n",
      " 'description': 2,\n",
      " 'highway': 39,\n",
      " 'name': 8,\n",
      " 'name:cs': 2,\n",
      " 'name:en': 6,\n",
      " 'name:fr': 2,\n",
      " 'name:it': 2,\n",
      " 'name:pl': 2,\n",
      " 'name:pt': 2,\n",
      " 'name:sv': 2,\n",
      " 'network': 6,\n",
      " 'operator': 6,\n",
      " 'railway': 8,\n",
      " 'ref': 2,\n",
      " 'wikipedia': 2}\n"
     ]
    }
   ],
   "source": [
    "# Now let's count different tags that exist in the data.\n",
    "# Output limited.\n",
    "#\n",
    "tags = {}\n",
    "i = 100\n",
    "for _, element in ET.iterparse('.\\part_of_moscow.osm'):\n",
    "    for tag in element.iter('tag'):\n",
    "        key = tag.attrib['k'].encode('utf-8')\n",
    "        if (key in tags):\n",
    "            tags[key] = tags[key] + 1\n",
    "        else:\n",
    "            tags[key] = 1\n",
    "        i = i - 1\n",
    "        if (i < 0):\n",
    "            break\n",
    "    if (i < 0):\n",
    "        break\n",
    "\n",
    "pp.pprint(tags, width=1)"
   ]
  },
  {
   "cell_type": "markdown",
   "metadata": {},
   "source": [
    "Oh, my!!!\n",
    "So many different tags! With one colon, with two colons...\n",
    "Similar items such as \"color\" and \"colour\"...\n",
    "Dozens of \"name\" tags probably with international notations...\n",
    "\n",
    "It will take months to fully clean even this small piece of the Moscow map :(\n",
    "\n",
    "Let me have a look at more details and then I'll make certains decisions on which cases to solve."
   ]
  },
  {
   "cell_type": "code",
   "execution_count": 204,
   "metadata": {
    "collapsed": false
   },
   "outputs": [
    {
     "name": "stdout",
     "output_type": "stream",
     "text": [
      "name:it: Avtozavodskaja\n",
      "name:pt: Estação Avtosavodskaia\n",
      "name:en: Shabolovskaya\n",
      "name: Кунцево I\n",
      "wikipedia: ru:Автозаводская (станция метро, Москва)\n",
      "colour: orange\n",
      "description: Калужско-Рижская линия\n",
      "name:cs: Avtozavodskaja\n",
      "traffic_calming: bump\n",
      "was:highway: crossing\n",
      "crossing: uncontrolled\n",
      "name:fr: Avtozavodskaïa\n",
      "alt_name: Кунцево\n",
      "operator: ГУП «Московский метрополитен»\n",
      "name:sv: Avtozavodskaja\n",
      "railway: station\n",
      "name:de: Oktober\n",
      "ref: 3\n",
      "name:pl: Awtozawodzkaja\n",
      "highway: traffic_signals\n",
      "network: Московский метрополитен\n"
     ]
    }
   ],
   "source": [
    "# Let's see one example of each tag...\n",
    "# Output limited to 20\n",
    "#\n",
    "tags = {}\n",
    "i = 20\n",
    "for _, element in ET.iterparse('.\\part_of_moscow.osm'):\n",
    "    for tag in element.iter('tag'):\n",
    "        key = tag.attrib['k']\n",
    "        value = tag.attrib['v']\n",
    "        if (not key in tags):\n",
    "            tags[key] = value\n",
    "            i = i - 1\n",
    "    if (i < 0):\n",
    "        break\n",
    "\n",
    "for item in tags:\n",
    "    print('{0}: {1}'.format(item.encode('utf-8'), tags[item].encode('utf-8')))"
   ]
  },
  {
   "cell_type": "markdown",
   "metadata": {},
   "source": [
    "What. A. Mess...\n",
    "Don't give up!!! Let's continue."
   ]
  },
  {
   "cell_type": "code",
   "execution_count": 209,
   "metadata": {
    "collapsed": false
   },
   "outputs": [
    {
     "name": "stdout",
     "output_type": "stream",
     "text": [
      "\n",
      "===New Item===\n",
      "\n",
      "address: Мичуринский пр-т, д. 20, к. 1 (Олимпийская деревня)\n",
      "\n",
      "\n",
      "===New Item===\n",
      "\n",
      "amenity: police\n",
      "\n",
      "name: Отдел по борьбе с организованной преступностью\n",
      "\n",
      "address: Мичуринский пр-т, д. 20, к. 1 (Олимпийская деревня)\n",
      "\n",
      "\n",
      "===New Item===\n",
      "\n",
      "address: Мичуринский пр-т, д. 4, к. 2 (Олимпийская деревня-80)\n",
      "\n",
      "\n",
      "===New Item===\n",
      "\n",
      "phone: (499) 726-16-70\n",
      "\n",
      "amenity: veterinary\n",
      "\n",
      "name: Клиника ветринарной медицины \"Лебеди\"\n",
      "\n",
      "address: Мичуринский пр-т, д. 4, к. 2 (Олимпийская деревня-80)\n",
      "\n"
     ]
    }
   ],
   "source": [
    "# Let's have a look at tags having an \"address\" attribute\n",
    "# Output limited.\n",
    "#\n",
    "\n",
    "i = 4\n",
    "\n",
    "for _, element in ET.iterparse('.\\part_of_moscow.osm'):\n",
    "    temp_dict = {}\n",
    "    flag = 0\n",
    "    \n",
    "    for tag in element.iter('tag'):\n",
    "        key = tag.attrib['k']\n",
    "        temp_dict[key] = tag.attrib['v']\n",
    "        if (key == 'address'):\n",
    "            flag = 1\n",
    "    if (flag == 1):\n",
    "        print('\\n===New Item===\\n')\n",
    "        i = i - 1\n",
    "        for item in temp_dict:\n",
    "            print('{0}: {1}\\n'.format(item.encode('utf-8'), temp_dict[item].encode('utf-8')))\n",
    "    if (i == 0):\n",
    "        break"
   ]
  },
  {
   "cell_type": "markdown",
   "metadata": {},
   "source": [
    "Ok, these lines sometimes have the whole address in one line:\n",
    "\n",
    "StreetName St., h. HouseNumber, bld. BuildingNumber\n",
    "\n",
    "I will parse these using the split_address_line() function."
   ]
  },
  {
   "cell_type": "code",
   "execution_count": 214,
   "metadata": {
    "collapsed": false
   },
   "outputs": [
    {
     "name": "stdout",
     "output_type": "stream",
     "text": [
      "\n",
      "===New Addr2 Item===\n",
      "\n",
      "addr2:housenumber: 17\n",
      "\n",
      "\n",
      "===New Addr2 Item===\n",
      "\n",
      "addr2:street: Фруктовая улица\n",
      "\n",
      "\n",
      "===New Addr2 Item===\n",
      "\n",
      "building: apartments\n",
      "\n",
      "addr:housenumber: 6\n",
      "\n",
      "addr2:street: Фруктовая улица\n",
      "\n",
      "addr2:housenumber: 17\n",
      "\n",
      "cladr:code: 77000000000265100\n",
      "\n",
      "building:levels: 5\n",
      "\n",
      "addr:street: Симферопольский бульвар\n",
      "\n",
      "\n",
      "===New Addr2 Item===\n",
      "\n",
      "addr2:housenumber: 14/37\n",
      "\n"
     ]
    }
   ],
   "source": [
    "# Let's look at the 'addr2' entries\n",
    "# Output limited.\n",
    "#\n",
    "counter = 3\n",
    "for _, element in ET.iterparse('.\\part_of_moscow.osm'):\n",
    "    temp_dict = {}\n",
    "    flag = 0\n",
    "    for tag in element.iter('tag'):\n",
    "        key = tag.attrib['k']\n",
    "        temp_dict[key] = tag.attrib['v']\n",
    "        if (key.startswith('addr2')):\n",
    "            flag = 1\n",
    "    if (flag == 1):\n",
    "        counter = counter - 1\n",
    "        print('\\n===New Addr2 Item===\\n')\n",
    "        for item in temp_dict:\n",
    "            print('{0}: {1}\\n'.format(item.encode('utf-8'), temp_dict[item].encode('utf-8')))\n",
    "    if (counter < 0):\n",
    "            break"
   ]
  },
  {
   "cell_type": "code",
   "execution_count": 215,
   "metadata": {
    "collapsed": false
   },
   "outputs": [
    {
     "name": "stdout",
     "output_type": "stream",
     "text": [
      "\n",
      "===New Addr2 Item===\n",
      "\n",
      "addr:housenumber2: 12 к2 с5\n",
      "\n",
      "\n",
      "===New Addr2 Item===\n",
      "\n",
      "addr:housenumber: 12 к2\n",
      "\n",
      "building: yes\n",
      "\n",
      "building:levels: 5\n",
      "\n",
      "addr:housenumber2: 12 к2 с5\n",
      "\n",
      "addr:street: улица Доватора\n",
      "\n",
      "\n",
      "===New Addr2 Item===\n",
      "\n",
      "addr:housenumber2: 17/19\n",
      "\n",
      "\n",
      "===New Addr2 Item===\n",
      "\n",
      "addr:housenumber: 19/17\n",
      "\n",
      "building: yes\n",
      "\n",
      "addr:street2: проспект Вернадского\n",
      "\n",
      "building:levels: 8\n",
      "\n",
      "addr:housenumber2: 17/19\n",
      "\n",
      "addr:street: улица Крупской\n",
      "\n",
      "\n",
      "===New Addr2 Item===\n",
      "\n",
      "addr:housenumber2: 7\n",
      "\n"
     ]
    }
   ],
   "source": [
    "# Let's look at the 'addr:housenumber2' entries\n",
    "# Output limited.\n",
    "#\n",
    "counter = 5\n",
    "for _, element in ET.iterparse('.\\part_of_moscow.osm'):\n",
    "    temp_dict = {}\n",
    "    flag = 0\n",
    "\n",
    "    \n",
    "    for tag in element.iter('tag'):\n",
    "        key = tag.attrib['k']\n",
    "        temp_dict[key] = tag.attrib['v']\n",
    "        if (key == 'addr:housenumber2'):\n",
    "            flag = 1\n",
    "    if (flag == 1):\n",
    "        print('\\n===New Addr2 Item===\\n')\n",
    "        for item in temp_dict:\n",
    "            print('{0}: {1}\\n'.format(item.encode('utf-8'), temp_dict[item].encode('utf-8')))\n",
    "        counter = counter - 1\n",
    "    if (counter == 0):\n",
    "            break"
   ]
  },
  {
   "cell_type": "markdown",
   "metadata": {},
   "source": [
    "Okay, I understood what we have here!\n",
    "In Russia, when a house sits at the cross of two roads, it has the number of X/Y, where\n",
    "X is the house number at Road 1 and\n",
    "Y is the house number at Road 2.\n",
    "OSM users sometimes add such info by making two address entries: \n",
    "'addr' - Road 1 name and house number by Road 1 and \n",
    "'addr2' - Road 2 name and house number by Road 2.\n",
    "House numbers can still be in the X/Y format.\n",
    "I will keep this format since it's official, but I decided to create a \"secondary_address\" entry for addr2 and similar entries.\n",
    "\n",
    "The same idea is sometimes implemented as addr:street2 and addr:housenumber2.\n",
    "I will take care of this case as well."
   ]
  },
  {
   "cell_type": "code",
   "execution_count": 216,
   "metadata": {
    "collapsed": false
   },
   "outputs": [
    {
     "name": "stdout",
     "output_type": "stream",
     "text": [
      "fuel:diesel: yes\n",
      "\n",
      "fuel:octane_95: yes\n",
      "\n",
      "fuel:octane_98: yes\n",
      "\n",
      "fuel:diesel: yes\n",
      "\n",
      "fuel:octane_95: yes\n",
      "\n",
      "fuel:octane_98: yes\n",
      "\n",
      "fuel:diesel: yes\n",
      "\n",
      "fuel:lpg: no\n",
      "\n",
      "fuel:octane_92: yes\n",
      "\n",
      "fuel:octane_95: yes\n",
      "\n"
     ]
    }
   ],
   "source": [
    "# Let's have a look at the \"fuel\" entries\n",
    "# Output limited.\n",
    "#\n",
    "counter = 10\n",
    "for _, element in ET.iterparse('.\\part_of_moscow.osm'):\n",
    "    temp_dict = {}\n",
    "    flag = 0\n",
    "\n",
    "    for tag in element.iter('tag'):\n",
    "        key = tag.attrib['k']\n",
    "#        temp_dict[key] = tag.attrib['v']\n",
    "        if (key.startswith('fuel')):\n",
    "            print('{0}: {1}\\n'.format(key, tag.attrib['v'].encode('utf-8')))\n",
    "            counter = counter - 1\n",
    "    if (counter == 0):\n",
    "        break\n"
   ]
  },
  {
   "cell_type": "markdown",
   "metadata": {},
   "source": [
    "Ok, it seems like this is about fuel stations.\n",
    "Let me tranform this to the following structure:\n",
    "\n",
    "fuel:octane_95: yes\n",
    "fuel:octane_98: yes\n",
    "\n",
    "will become\n",
    "\n",
    "fuel: { octane_95: yes,\n",
    "        octane_98: yes}\n",
    "        \n",
    "The same logic applies for \"payment\" entries (example data not shown):\n",
    "\n",
    "payment:visa: yes\n",
    "payment:mastercard: yes\n",
    "\n",
    "will become\n",
    "\n",
    "payment : { visa: yes,\n",
    "            mastercard: yes}"
   ]
  },
  {
   "cell_type": "code",
   "execution_count": 217,
   "metadata": {
    "collapsed": false
   },
   "outputs": [
    {
     "name": "stdout",
     "output_type": "stream",
     "text": [
      "{'building:color': 'grey'}\n",
      "{'addr:housenumber': u'1 \\u04411',\n",
      " 'addr:street': u'\\u041a\\u0430\\u043d\\u0430\\u0442\\u0447\\u0438\\u043a\\u043e\\u0432\\u0441\\u043a\\u0438\\u0439 \\u043f\\u0440\\u043e\\u0435\\u0437\\u0434',\n",
      " 'amenity': 'bank',\n",
      " 'building': 'yes',\n",
      " 'building:color': 'grey',\n",
      " 'building:levels': '2',\n",
      " 'operator': u'\\u041e\\u043a\\u0435\\u0430\\u043d \\u0411\\u0430\\u043d\\u043a'}\n",
      "{'building:color': '#E3FAFA'}\n",
      "{'building': 'yes',\n",
      " 'building:color': '#E3FAFA',\n",
      " 'building:levels': '1'}\n",
      "{'building:color': '#E3FAFA'}\n"
     ]
    }
   ],
   "source": [
    "# Finally let's have a look at the \"building\" entries\n",
    "# Output limited\n",
    "#\n",
    "counter = 5\n",
    "for _, element in ET.iterparse('.\\part_of_moscow.osm'):\n",
    "    temp_dict = {}\n",
    "    flag = 0\n",
    "    if (counter == 0):\n",
    "            break    \n",
    "    for tag in element.iter('tag'):\n",
    "        key = tag.attrib['k']\n",
    "        temp_dict[key] = tag.attrib['v']\n",
    "        if (key.startswith('building')):\n",
    "            parts = key.split(':')\n",
    "            if (len(parts) > 1):\n",
    "                if (parts[1] == 'color'):\n",
    "                    flag = 1\n",
    "                    #pp.pprint(element, width=1)\n",
    "                    #print('{0}: {1}\\n'.format(key, tag.attrib['v'].encode('utf-8')))\n",
    "                    counter = counter - 1\n",
    "    if (flag):\n",
    "        pp.pprint(temp_dict, width=4)"
   ]
  },
  {
   "cell_type": "markdown",
   "metadata": {},
   "source": [
    "Ok, we have a complicated structure for tags that start with \"building\".\n",
    "I decided to go for the following transformation:\n",
    "\n",
    "building: school,\n",
    "building:roof: concrete,\n",
    "building:roof:colour: #C7C7C7,\n",
    "building:levels: 1\n",
    "building:levels:underground: 1\n",
    "\n",
    "will become\n",
    "\n",
    "building: {type: school,\n",
    "            roof: {type: concrete,\n",
    "                    colour: #C7C7C7},\n",
    "            levels: {amount: 1,\n",
    "                    underground: 1}\n",
    "           }\n",
    "\n",
    "Other k:v pairs will remain unchanged.\n",
    "\n",
    "Also I noticed from the outputs above that there are many international options for \"name\", \"alt_name\" and \"official_name\" entries. Let me go for the following transformation:\n",
    "\n",
    "name: NameInRussian\n",
    "name:en: NameInEnglish\n",
    "name:de: NameInGerman\n",
    "\n",
    "will become\n",
    "\n",
    "name: NameInRussian\n",
    "name_international: {en: NameInEnglish,\n",
    "                    de: NameInGerman}\n",
    "                    \n",
    "Same for \"alt_name\" and \"official_name\"\n",
    "\n",
    "That's it. There are much, MUCH more other things that could be taken care of.\n",
    "But it will take me ages to go through them.\n",
    "Let me focus on the fixes that I selected above and implement them.\n",
    "\n",
    "Next come functions for the transformation process.\n",
    "Note: I copied the approach for \"created\" and \"position\" from the course."
   ]
  },
  {
   "cell_type": "code",
   "execution_count": 190,
   "metadata": {
    "collapsed": true
   },
   "outputs": [],
   "source": [
    "# Split Russian full address line into a tuple: (street, housenumber, building)\n",
    "# Returns None if unsplittable (that is, something is wrong)\n",
    "#\n",
    "def split_address_line(address):\n",
    "    parts = address.split(',')\n",
    "    if (len(parts) == 3):\n",
    "        street_name = parts[0].strip()\n",
    "        house_number = re.search(r'[0-9]+', parts[1]).group()\n",
    "        building_number = re.search(r'[0-9]+', parts[2]).group()\n",
    "        return (street_name, house_number, building_number)\n",
    "    else:\n",
    "        return None"
   ]
  },
  {
   "cell_type": "code",
   "execution_count": 191,
   "metadata": {
    "collapsed": true
   },
   "outputs": [],
   "source": [
    "# Main function to shape map elements into JSON\n",
    "#\n",
    "def shape_element(element):\n",
    "    node = {}\n",
    "    if (element.tag == 'node') or (element.tag == 'way'):\n",
    "        node['type'] = element.tag\n",
    "        # Empty elements to be filled later\n",
    "        temp_dict = {'created': {}, \\\n",
    "                    'address': {}, \\\n",
    "                    'secondary_address': {}, \\\n",
    "                    'fuel': {}, \\\n",
    "                    'payment': {}, \\\n",
    "                    'building': {}, \\\n",
    "                    'position': [] }\n",
    "        latitude = None\n",
    "        longitude = None\n",
    "        \n",
    "        # Handle the \"created\" items\n",
    "        for a in element.attrib:\n",
    "            if (a in CREATED):\n",
    "                temp_dict['created'][a] = element.attrib[a]\n",
    "            elif (a == 'lat'):\n",
    "                latitude = float(element.attrib[a])\n",
    "            elif (a == 'lon'):\n",
    "                longitude = float(element.attrib[a])\n",
    "            else:\n",
    "                node[a] = element.attrib[a]\n",
    "        \n",
    "        if (latitude) and (longitude):\n",
    "            temp_dict['position'] = [latitude, longitude]\n",
    "        \n",
    "        # Handle underlying tags    \n",
    "        for tag in element.iter('tag'):\n",
    "            key = tag.attrib['k']\n",
    "            value = tag.attrib['v'].encode('utf-8')\n",
    "            \n",
    "            #\n",
    "            # Main shaping body\n",
    "            #\n",
    "            if (key.startswith('addr')):\n",
    "                # Handle various address items\n",
    "                if (key == 'address'):\n",
    "                    # Handle full address lines such as \"StreetName St., h. HouseNumber, bld. BuildingNumber\"\n",
    "                    parts = split_address_line(value)\n",
    "                    if (parts):\n",
    "                        temp_dict['address']['street'] = parts[0]\n",
    "                        temp_dict['address']['housenumber'] = parts[1]\n",
    "                        temp_dict['address']['building'] = parts[2]\n",
    "                else:\n",
    "                    # Handle other address items such as \"addr2:street\" or \"addr:street2\"\n",
    "                    parts = key.translate(None, '2').split(':')\n",
    "                    if (len(parts) == 3):\n",
    "                        # Handle addr:city:en entry\n",
    "                        parts[1] = parts[1] + '_internaltional'\n",
    "                    if ('2' in key):\n",
    "                        # We have either \"addr2:street\" or \"addr:street2\" so we fill an secondary address\n",
    "                        temp_dict['secondary_address'][parts[1]] = value\n",
    "                    else:\n",
    "                        # We have a primary address item\n",
    "                        temp_dict['address'][parts[1]] = value\n",
    "            \n",
    "            elif (key.startswith('fuel')):\n",
    "                # Handle fuel entries\n",
    "                parts = key.split(':')\n",
    "                temp_dict['fuel'][parts[1]] = value\n",
    "            \n",
    "            elif (key.startswith('payment')):\n",
    "                # Handle payment entries\n",
    "                parts = key.split(':')\n",
    "                temp_dict['payment'][parts[1]] = value\n",
    "            \n",
    "            elif (key.startswith('building')):\n",
    "                # Handle building entries\n",
    "                parts = key.split(':')\n",
    "                if (len(parts) == 1):\n",
    "                    # Fill building type\n",
    "                    if (value <> 'yes'):\n",
    "                        temp_dict['building']['type'] = value\n",
    "                elif (len(parts) == 2):\n",
    "                    # Prepare sub-dicts for \"levels\", \"roof\" and make normal entries for others\n",
    "                    if (parts[1] == 'levels') or (parts[1] == 'roof'):\n",
    "                        if (parts[1] not in building):\n",
    "                            temp_dict['building'][parts[1]] = {}                        \n",
    "                        if (parts[1] == 'levels'):\n",
    "                            temp_dict['building']['levels']['amount'] = value\n",
    "                        else:\n",
    "                            temp_dict['building']['roof']['type'] = value\n",
    "                    else:\n",
    "                        temp_dict['building'][parts[1]] = value\n",
    "                else:\n",
    "                    # Fill sub-dicts for \"levels\", \"roof\". Here I handle double-colon items, i.e. \"building:roof:color\"\n",
    "                    if (parts[1] not in building):\n",
    "                        temp_dict['building'][parts[1]] = {}\n",
    "                    temp_dict['building'][parts[1]][parts[2]] = value\n",
    "        \n",
    "            elif (key.startswith('name')) or (key.startswith('alt_name')) or (key.startswith('official_name')):\n",
    "                # Handle name, alt_name and official_name items\n",
    "                parts = key.split(':')\n",
    "                if (len(parts) > 1):\n",
    "                    # We have an international entry, such as \"name:en\", for example\n",
    "                    international_dict = parts[0] + '_international'\n",
    "                    if (international_dict not in node):\n",
    "                        node[international_dict] = {}\n",
    "                    node[international_dict][parts[1]] = value\n",
    "                else:\n",
    "                    # We have normal name, alt_name and official_name items\n",
    "                    node[key] = value\n",
    "\n",
    "            else:\n",
    "                # Default handler for all the rest\n",
    "                # I drop all items with problematic characters and all items with double-colon\n",
    "                if (re.match(problemchars, key) == None) and (re.match(doublecolon, key) == None):\n",
    "                    if (key <> 'type'):\n",
    "                        # There might be tags with the key of 'type' and it will interfere with the node type we set above.\n",
    "                        node[key] = value\n",
    "                \n",
    "            # Handle nd tags for \"way\"\n",
    "            if (element.tag == \"way\"):\n",
    "                node['node_refs'] = []\n",
    "                for tag in element.iter('nd'):\n",
    "                    node['node_refs'].append(tag.attrib['ref'])\n",
    "                \n",
    "        # Final part. Assemble all sub-dicts together provided that they were filled\n",
    "        for item in temp_dict:\n",
    "            if (temp_dict[item]):\n",
    "                node[item] = temp_dict[item]\n",
    "        return node\n",
    "    else:\n",
    "        return None\n"
   ]
  },
  {
   "cell_type": "code",
   "execution_count": 192,
   "metadata": {
    "collapsed": true
   },
   "outputs": [],
   "source": [
    "# Main body for map processing\n",
    "#\n",
    "file_out = \"{0}.json\".format('part_of_moscow')\n",
    "\n",
    "with codecs.open(file_out, \"w\") as fo:\n",
    "    for _, element in ET.iterparse('.\\part_of_moscow.osm'):\n",
    "        el = shape_element(element)\n",
    "        if el:\n",
    "            fo.write(json.dumps(el) + \"\\n\")"
   ]
  },
  {
   "cell_type": "code",
   "execution_count": 193,
   "metadata": {
    "collapsed": false
   },
   "outputs": [
    {
     "name": "stdout",
     "output_type": "stream",
     "text": [
      "File: part_of_moscow.json\t\tSize: 97687326 bytes\n",
      "File: part_of_moscow.osm\t\tSize: 88206345 bytes\n"
     ]
    }
   ],
   "source": [
    "# Sizes of files I work with\n",
    "#\n",
    "for root, dirs, files in os.walk('.'):\n",
    "    for name in files:\n",
    "        if ('moscow' in name):\n",
    "            print('File: {0}\\t\\tSize: {1} bytes'.format(name,getsize(name)))"
   ]
  },
  {
   "cell_type": "markdown",
   "metadata": {},
   "source": [
    "Ok, both files are more than 50 MB.\n",
    "\n",
    "At this point I load my JSON file into the MongoDB instance using the following OS command:\n",
    "\n",
    "c:\\Program Files\\MongoDB\\Server\\3.2\\bin>mongoimport -d examples -c moscow --file\n",
    " \"d:\\Udacity\\P3 Data Wrangling with MongoDB\\part_of_moscow.json\"\n",
    "2016-04-24T13:24:17.010+0300    connected to: localhost\n",
    "2016-04-24T13:24:19.985+0300    [######..................] examples.moscow\n",
    "23.6 MB/93.2 MB (25.3%)\n",
    "2016-04-24T13:24:22.985+0300    [############............] examples.moscow\n",
    "48.6 MB/93.2 MB (52.2%)\n",
    "2016-04-24T13:24:25.985+0300    [##################......] examples.moscow\n",
    "72.5 MB/93.2 MB (77.8%)\n",
    "2016-04-24T13:24:28.311+0300    [########################] examples.moscow\n",
    "93.2 MB/93.2 MB (100.0%)\n",
    "2016-04-24T13:24:28.312+0300    imported 412257 documents\n",
    "\n",
    "c:\\Program Files\\MongoDB\\Server\\3.2\\bin>\n",
    "\n",
    "Now let's investigate data in the database with some queries."
   ]
  },
  {
   "cell_type": "code",
   "execution_count": 194,
   "metadata": {
    "collapsed": true
   },
   "outputs": [],
   "source": [
    "# Establish a connection to the database run locally\n",
    "#\n",
    "client = MongoClient('mongodb://localhost:27017')\n",
    "\n",
    "db = client.examples\n"
   ]
  },
  {
   "cell_type": "code",
   "execution_count": 195,
   "metadata": {
    "collapsed": false
   },
   "outputs": [
    {
     "name": "stdout",
     "output_type": "stream",
     "text": [
      "Number of Moscow documents:  412257\n"
     ]
    }
   ],
   "source": [
    "# Number of documents in the database:\n",
    "#\n",
    "number_of_documents = db.moscow.find().count()\n",
    "\n",
    "print 'Number of Moscow documents: ', number_of_documents"
   ]
  },
  {
   "cell_type": "markdown",
   "metadata": {},
   "source": [
    "Ok, it's the same to the number of documents that were imported using mongoimport"
   ]
  },
  {
   "cell_type": "code",
   "execution_count": 196,
   "metadata": {
    "collapsed": false
   },
   "outputs": [
    {
     "name": "stdout",
     "output_type": "stream",
     "text": [
      "[{u'_id': u'node',\n",
      "  u'count': 348210},\n",
      " {u'_id': u'way',\n",
      "  u'count': 64047}]\n"
     ]
    }
   ],
   "source": [
    "# Number of 'node' and 'way' tags:\n",
    "#\n",
    "pipeline = [{ \"$group\" : { \"_id\" : \"$type\", \\\n",
    "                           \"count\" : { \"$sum\" : 1 } } }]\n",
    "\n",
    "pp.pprint([doc for doc in db.moscow.aggregate(pipeline)], width=4)"
   ]
  },
  {
   "cell_type": "code",
   "execution_count": 197,
   "metadata": {
    "collapsed": false
   },
   "outputs": [
    {
     "name": "stdout",
     "output_type": "stream",
     "text": [
      "[{u'Count': 1012,\n",
      "  u'_id': u'Unique users'}]\n"
     ]
    }
   ],
   "source": [
    "# Number of unique contributors.\n",
    "# It's definitely a dirty way, but I didn't want to copy the nice query based on \"distinct\" from the submission example :)\n",
    "#\n",
    "pipeline = [{ \"$group\" : { \"_id\" : \"Unique users\", \\\n",
    "                            \"unique_users\" : { \"$addToSet\" : \"$created.user\"} } }, \\\n",
    "            { \"$project\" : { \"Count\" : { \"$size\" : \"$unique_users\" } } }]\n",
    "    \n",
    "pp.pprint([doc for doc in db.moscow.aggregate(pipeline)], width=4)\n"
   ]
  },
  {
   "cell_type": "code",
   "execution_count": 198,
   "metadata": {
    "collapsed": false
   },
   "outputs": [
    {
     "name": "stdout",
     "output_type": "stream",
     "text": [
      "User: trolleway, Contributions: 31906\n",
      "User: s-tikhomirov, Contributions: 24743\n",
      "User: ad47, Contributions: 23915\n",
      "User: Павел Гетманцев, Contributions: 18349\n",
      "User: AMDmi3, Contributions: 16942\n",
      "User: literan, Contributions: 16705\n",
      "User: KekcuHa, Contributions: 13063\n",
      "User: Felis Pimeja, Contributions: 12634\n",
      "User: stlp, Contributions: 8886\n",
      "User: SergZL, Contributions: 8573\n"
     ]
    }
   ],
   "source": [
    "# Top 10 contributing users\n",
    "# Note the Unicode characters in user names!\n",
    "#\n",
    "pipeline = [{ \"$group\" : { \"_id\" : \"$created.user\", \\\n",
    "                           \"count\" : { \"$sum\" : 1 } } }, \\\n",
    "            { \"$sort\" : { \"count\" : -1 } }, \\\n",
    "           { \"$limit\" : 10 }]\n",
    "\n",
    "result = db.moscow.aggregate(pipeline)\n",
    "\n",
    "for doc in result:\n",
    "    print('User: {0}, Contributions: {1}'.format(doc['_id'].encode('utf-8'), doc['count']))\n"
   ]
  },
  {
   "cell_type": "code",
   "execution_count": 199,
   "metadata": {
    "collapsed": false
   },
   "outputs": [
    {
     "name": "stdout",
     "output_type": "stream",
     "text": [
      "[{u'_id': u'Documents having a secondary address',\n",
      "  u'count': 38}]\n"
     ]
    }
   ],
   "source": [
    "# Let's see how many documents have a \"secondary_address\" info that I created while shaping\n",
    "#\n",
    "pipeline = [{ \"$match\" : { \"secondary_address\" : { \"$exists\" : 1 } } }, \\\n",
    "            { \"$group\" : { \"_id\" : \"Documents having a secondary address\", \\\n",
    "                          \"count\" : { \"$sum\" : 1 } } }]\n",
    " \n",
    "pp.pprint([doc for doc in db.moscow.aggregate(pipeline)], width=4)"
   ]
  },
  {
   "cell_type": "markdown",
   "metadata": {},
   "source": [
    "Additional ideas.\n",
    "\n",
    "I launched the iD browser in order to see how the mapping process looks like in reality.\n",
    "I noticed that users can create any tags and put any values when describing objects.\n",
    "\n",
    "Two examples that I noticed while initially analyzing the data set:\n",
    "\n",
    "Example 1. Some buildings have two tags: <tag k='color' .../> and <tag k='colour' .../>. \n",
    "I guess we are talking about same things here.\n",
    "Obviously we have here a confusion caused by language nuances. \n",
    "The system might limit options of \"colour\"/\"color\" to just \"color\".\n",
    "\n",
    "Also the \"color\" tag might have either literal values: grey, or hex values, such as \"#E3FAFA\".\n",
    "Why doesn't one limit this field to just one type of data?\n",
    "\n",
    "Example 2. In Russia houses can have \"building numbers\" and \"house bodies\". \n",
    "In fact these are same things, but there are many cases when a house has a house number, a building number and a body number: StreetName St., 17 (house number), bld. 2 (building number), bd. 1 (body number). \n",
    "This is the official notation.\n",
    "\n",
    "I noticed in the editor that in some cases the \"House Number\" entry contains values such as \"17 bld2\".\n",
    "It can be confusing when doing a search. Some people might search for \"17 bld2\", some people might search for \"17, bld2\", some for \"17b2\" etc.\n",
    "\n",
    "I think map editors should enforce some policy against such fields.\n",
    "For example, if a user enters letters in the \"House Number\" field, he might receive a warning saying that unless the official house number includes letters, user should use other fields (such as body number, building number, etc.) to specify corresponding information.\n",
    "\n",
    "I understand that my suggestions might contradict to the XML paradigm which is about any tags, any values. However, for the sake of data uniformity and clarity, one might think of it, as sometimes some items should conform to certain rules."
   ]
  },
  {
   "cell_type": "code",
   "execution_count": 200,
   "metadata": {
    "collapsed": false
   },
   "outputs": [
    {
     "name": "stdout",
     "output_type": "stream",
     "text": [
      "[{u'_id': u'apartments',\n",
      "  u'count': 3535},\n",
      " {u'_id': u'garages',\n",
      "  u'count': 1309},\n",
      " {u'_id': u'school',\n",
      "  u'count': 336},\n",
      " {u'_id': u'kindergarten',\n",
      "  u'count': 214},\n",
      " {u'_id': u'commercial',\n",
      "  u'count': 136},\n",
      " {u'_id': u'industrial',\n",
      "  u'count': 110},\n",
      " {u'_id': u'garage',\n",
      "  u'count': 91},\n",
      " {u'_id': u'office',\n",
      "  u'count': 90},\n",
      " {u'_id': u'university',\n",
      "  u'count': 87},\n",
      " {u'_id': u'roof',\n",
      "  u'count': 77},\n",
      " {u'_id': u'service',\n",
      "  u'count': 60},\n",
      " {u'_id': u'retail',\n",
      "  u'count': 47},\n",
      " {u'_id': u'construction',\n",
      "  u'count': 46},\n",
      " {u'_id': u'church',\n",
      "  u'count': 40},\n",
      " {u'_id': u'warehouse',\n",
      "  u'count': 37},\n",
      " {u'_id': u'hospital',\n",
      "  u'count': 31},\n",
      " {u'_id': u'residential',\n",
      "  u'count': 30},\n",
      " {u'_id': u'kiosk',\n",
      "  u'count': 22},\n",
      " {u'_id': u'dormitory',\n",
      "  u'count': 20},\n",
      " {u'_id': u'house',\n",
      "  u'count': 20},\n",
      " {u'_id': u'public',\n",
      "  u'count': 19},\n",
      " {u'_id': u'hangar',\n",
      "  u'count': 11},\n",
      " {u'_id': u'chapel',\n",
      "  u'count': 7},\n",
      " {u'_id': u'shop',\n",
      "  u'count': 7},\n",
      " {u'_id': u'hotel',\n",
      "  u'count': 6},\n",
      " {u'_id': u'ruins',\n",
      "  u'count': 6},\n",
      " {u'_id': u'bridge',\n",
      "  u'count': 6},\n",
      " {u'_id': u'store',\n",
      "  u'count': 5},\n",
      " {u'_id': u'observatory',\n",
      "  u'count': 5},\n",
      " {u'_id': u'factory',\n",
      "  u'count': 4},\n",
      " {u'_id': u'train_station',\n",
      "  u'count': 4},\n",
      " {u'_id': u'college',\n",
      "  u'count': 3},\n",
      " {u'_id': u'no',\n",
      "  u'count': 3},\n",
      " {u'_id': u'shed',\n",
      "  u'count': 3},\n",
      " {u'_id': u'undefined',\n",
      "  u'count': 2},\n",
      " {u'_id': u'gazebo',\n",
      "  u'count': 2},\n",
      " {u'_id': u'stands',\n",
      "  u'count': 2},\n",
      " {u'_id': u'civic',\n",
      "  u'count': 2},\n",
      " {u'_id': u'hut',\n",
      "  u'count': 2},\n",
      " {u'_id': u'cabin',\n",
      "  u'count': 2},\n",
      " {u'_id': u'heat_exchange_station',\n",
      "  u'count': 1},\n",
      " {u'_id': u'detached',\n",
      "  u'count': 1},\n",
      " {u'_id': u'supermarket',\n",
      "  u'count': 1},\n",
      " {u'_id': u'fuel_station',\n",
      "  u'count': 1},\n",
      " {u'_id': u'temple',\n",
      "  u'count': 1},\n",
      " {u'_id': u'clinic',\n",
      "  u'count': 1},\n",
      " {u'_id': u'stilobate',\n",
      "  u'count': 1},\n",
      " {u'_id': u'manufacture',\n",
      "  u'count': 1},\n",
      " {u'_id': u'sport',\n",
      "  u'count': 1},\n",
      " {u'_id': u'heat_station',\n",
      "  u'count': 1},\n",
      " {u'_id': u'dovecote',\n",
      "  u'count': 1},\n",
      " {u'_id': u'film_studio',\n",
      "  u'count': 1},\n",
      " {u'_id': u'bunker',\n",
      "  u'count': 1},\n",
      " {u'_id': u'grass',\n",
      "  u'count': 1},\n",
      " {u'_id': u'office_center',\n",
      "  u'count': 1},\n",
      " {u'_id': u'part',\n",
      "  u'count': 1},\n",
      " {u'_id': u'sauna',\n",
      "  u'count': 1},\n",
      " {u'_id': u'cathedral',\n",
      "  u'count': 1},\n",
      " {u'_id': u'greenhouse',\n",
      "  u'count': 1},\n",
      " {u'_id': u'office=publisher',\n",
      "  u'count': 1},\n",
      " {u'_id': u'laboratory',\n",
      "  u'count': 1},\n",
      " {u'_id': u'toilets',\n",
      "  u'count': 1},\n",
      " {u'_id': u'\\u041f\\u043b\\u043e\\u0449\\u0430\\u0434\\u044c',\n",
      "  u'count': 1}]\n"
     ]
    }
   ],
   "source": [
    "# A couple of additional queries against the database.\n",
    "#\n",
    "# Let's calculate different types of buildings that we have in the database\n",
    "#\n",
    "pipeline = [{ \"$match\" : { \"building.type\" : { \"$exists\" : 1 } } }, \\\n",
    "            { \"$group\" : { \"_id\" : \"$building.type\", \\\n",
    "                           \"count\" : { \"$sum\" : 1 } } }, \\\n",
    "            { \"$sort\" : { \"count\" : -1 } }]\n",
    "\n",
    "pp.pprint([doc for doc in db.moscow.aggregate(pipeline)], width=4)"
   ]
  },
  {
   "cell_type": "code",
   "execution_count": 201,
   "metadata": {
    "collapsed": false
   },
   "outputs": [
    {
     "name": "stdout",
     "output_type": "stream",
     "text": [
      "[{u'_id': u'Documents having international names',\n",
      "  u'count': 1218}]\n"
     ]
    }
   ],
   "source": [
    "# Finally let's see how many documents have a \"name_international\" info that I created while shaping\n",
    "# A bit more complex query than the one above...\n",
    "#\n",
    "pipeline = [{ \"$match\" : { \"$or\": [ \\\n",
    "                                   { \"name_international\" : { \"$exists\" : 1 } }, \\\n",
    "                                   { \"alt_name_international\" : { \"$exists\" : 1 } }, \\\n",
    "                                   { \"official_name_international\" : { \"$exists\" : 1 } }, \\\n",
    "                                   ] } }, \\\n",
    "            { \"$group\" : { \"_id\" : \"Documents having international names\", \\\n",
    "                          \"count\" : { \"$sum\" : 1 } } }]\n",
    "    \n",
    "pp.pprint([doc for doc in db.moscow.aggregate(pipeline)], width=4)"
   ]
  },
  {
   "cell_type": "markdown",
   "metadata": {
    "collapsed": true
   },
   "source": [
    "Conslusion.\n",
    "\n",
    "Data for even a small piece of Moscow, Russia, are quite dirty.\n",
    "It will require a huge amount of time and, most important, many decisions on how to handle them.\n",
    "A lot of data will probably will have to be dropped and re-entered using a more unified data schema.\n",
    "\n",
    "Now I fully understand why the task of Data Munging and Wrangling is so important and why it consumes a great deal of the Data Scientist's time.\n",
    "\n",
    "I believe that even when one can use very flexible schemas, it might make sense to enforce some policies against the data coming into the schema."
   ]
  }
 ],
 "metadata": {
  "kernelspec": {
   "display_name": "Python 2",
   "language": "python",
   "name": "python2"
  },
  "language_info": {
   "codemirror_mode": {
    "name": "ipython",
    "version": 2
   },
   "file_extension": ".py",
   "mimetype": "text/x-python",
   "name": "python",
   "nbconvert_exporter": "python",
   "pygments_lexer": "ipython2",
   "version": "2.7.11"
  }
 },
 "nbformat": 4,
 "nbformat_minor": 0
}
